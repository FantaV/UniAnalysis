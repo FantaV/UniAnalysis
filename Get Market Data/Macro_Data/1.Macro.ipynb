{
 "cells": [
  {
   "cell_type": "code",
   "execution_count": 16,
   "metadata": {},
   "outputs": [
    {
     "data": {
      "text/plain": [
       "'\\nfollowing data that will be downloaded:\\n\\nUS Gross Domestic Product\\nGross Domestic Product of Different Countries\\nConsumer Price Index\\nUS Treasury Rate\\nUnemployment Rate\\nUS Brent Crude\\nGold ETF\\n\\n'"
      ]
     },
     "execution_count": 16,
     "metadata": {},
     "output_type": "execute_result"
    }
   ],
   "source": [
    "\"\"\"\n",
    "following data that will be downloaded:\n",
    "\n",
    "US Gross Domestic Product\n",
    "Gross Domestic Product of Different Countries\n",
    "Consumer Price Index\n",
    "US Treasury Rate\n",
    "Unemployment Rate\n",
    "US Brent Crude\n",
    "Gold ETF\n",
    "\n",
    "\"\"\""
   ]
  },
  {
   "cell_type": "code",
   "execution_count": 17,
   "metadata": {},
   "outputs": [],
   "source": [
    "import pandas as pd \n",
    "import numpy as np\n",
    "import matplotlib.pyplot as plt\n",
    "%matplotlib inline\n",
    "#plt.style.use('seaborn-darkgrid')\n",
    "import os \n",
    "import sys \n",
    "sys.path.append('/iCloud Drive/Documents/Studies/Quantra/Get Market Data/GMDResources/data_modules')\n",
    "import warnings\n",
    "warnings.filterwarnings('ignore')\n",
    "\n",
    "from fredapi import Fred\n",
    "fred = Fred(api_key='6b3e900ed43661de3d745a26d57fe516')"
   ]
  },
  {
   "cell_type": "code",
   "execution_count": 18,
   "metadata": {},
   "outputs": [
    {
     "ename": "AttributeError",
     "evalue": "module 'datetime' has no attribute 'today'",
     "output_type": "error",
     "traceback": [
      "\u001b[1;31m---------------------------------------------------------------------------\u001b[0m",
      "\u001b[1;31mAttributeError\u001b[0m                            Traceback (most recent call last)",
      "Cell \u001b[1;32mIn[18], line 2\u001b[0m\n\u001b[0;32m      1\u001b[0m \u001b[38;5;66;03m# Dataframe to store the values as of today\u001b[39;00m\n\u001b[1;32m----> 2\u001b[0m macro_data \u001b[38;5;241m=\u001b[39m pd\u001b[38;5;241m.\u001b[39mDataFrame(index\u001b[38;5;241m=\u001b[39m[\u001b[38;5;124m'\u001b[39m\u001b[38;5;124mValue as of \u001b[39m\u001b[38;5;124m'\u001b[39m\u001b[38;5;241m+\u001b[39m\u001b[38;5;28mstr\u001b[39m(\u001b[43mdate\u001b[49m\u001b[38;5;241;43m.\u001b[39;49m\u001b[43mtoday\u001b[49m())])\n\u001b[0;32m      4\u001b[0m \u001b[38;5;66;03m# Get the US GDP\u001b[39;00m\n\u001b[0;32m      5\u001b[0m \u001b[38;5;66;03m# Series ID for US GDP: GDP\u001b[39;00m\n\u001b[0;32m      6\u001b[0m gdp \u001b[38;5;241m=\u001b[39m fred\u001b[38;5;241m.\u001b[39mget_series(\u001b[38;5;124m'\u001b[39m\u001b[38;5;124mGDP\u001b[39m\u001b[38;5;124m'\u001b[39m)\n",
      "\u001b[1;31mAttributeError\u001b[0m: module 'datetime' has no attribute 'today'"
     ]
    }
   ],
   "source": [
    "# Dataframe to store the values as of today\n",
    "macro_data = pd.DataFrame(index=['Value as of '+str(date.today())])\n",
    "\n",
    "# Get the US GDP\n",
    "# Series ID for US GDP: GDP\n",
    "gdp = fred.get_series('GDP')\n",
    "# Data is fetched in Billions USD, divide by 1000 to convert into Trillions\n",
    "gdp = gdp/1000\n",
    "# Store the last value in 'macro_data'\n",
    "macro_data['US GDP'] = \"{} trillions USD\".format(gdp[-1])\n",
    "\n",
    "# Plot the GDP\n",
    "plt.figure(figsize=(15,7))\n",
    "gdp.plot()\n",
    "# Set the title and axis label\n",
    "plt.title('GDP', fontsize=14)\n",
    "plt.xlabel('Year', fontsize=12)\n",
    "plt.ylabel('Trillions of Dollars', fontsize=12)\n",
    "# Show the plot\n",
    "plt.show()"
   ]
  }
 ],
 "metadata": {
  "kernelspec": {
   "display_name": "Python 3",
   "language": "python",
   "name": "python3"
  },
  "language_info": {
   "codemirror_mode": {
    "name": "ipython",
    "version": 3
   },
   "file_extension": ".py",
   "mimetype": "text/x-python",
   "name": "python",
   "nbconvert_exporter": "python",
   "pygments_lexer": "ipython3",
   "version": "3.12.3"
  }
 },
 "nbformat": 4,
 "nbformat_minor": 2
}
