{
 "cells": [
  {
   "cell_type": "markdown",
   "id": "f1178c71-8e3a-45a0-8fac-4469c8789939",
   "metadata": {},
   "source": [
    "# Notebook Instructions\n",
    "\n",
    "1. If you are new to Jupyter notebooks, please go through this introductory manual <a href='https://quantra.quantinsti.com/quantra-notebook' target=\"_blank\">here</a>.\n",
    "1. Any changes made in this notebook would be lost after you close the browser window. **You can download the notebook to save your work on your PC.**\n",
    "1. Before running this notebook on your local PC:<br>\n",
    "i.  You need to set up a Python environment and the relevant packages on your local PC. To do so, go through the section on \"**Run Codes Locally on Your Machine**\" in the course.<br>\n",
    "ii. You need to **download the zip file available in the last unit** of this course. The zip file contains the data files and/or python modules that might be required to run this notebook."
   ]
  },
  {
   "cell_type": "markdown",
   "id": "06bde589",
   "metadata": {},
   "source": [
    "# Ratios from Fundamental Data\n",
    "\n",
    "In this notebook, you will learn what fundamental ratios are and why they are important. You will learn how they help in analysing the fundamental data for a company. You will learn to calculate fundamental ratios such as the return on equity (RoE) and current ratio. The ratios can be calculated using the fundamental data of the company fetched in the previous notebook.\n",
    "\n",
    "You will calculate the following ratios:\n",
    "1. [Current Ratio](#current_ratio)\n",
    "1. [Return on Equity (ROE)](#roe)\n",
    "1. [Debt to Equity (D/E) Ratio](#der)\n",
    "\n",
    "Note: `simfin` is a third party library and is not maintained by QuantInsti. At times, downloading the data may give you errors due to changes in simfin library.\n",
    "\n",
    "In such cases, it is recommended to upgrade the simfin package."
   ]
  },
  {
   "cell_type": "code",
   "execution_count": null,
   "id": "c20b9eca",
   "metadata": {},
   "outputs": [],
   "source": [
    "# Update to the latest simfin library version\n",
    "!pip install --upgrade simfin"
   ]
  },
  {
   "cell_type": "markdown",
   "id": "362f8fdf",
   "metadata": {},
   "source": [
    "## Import Libraries"
   ]
  },
  {
   "cell_type": "code",
   "execution_count": 2,
   "id": "87dfbedf",
   "metadata": {},
   "outputs": [],
   "source": [
    "# Import the SimFin library\n",
    "import simfin as sf\n",
    "\n",
    "# Import the names used for easy access to SimFin's data-columns\n",
    "from simfin.names import *\n",
    "\n",
    "# Import time manipulation library\n",
    "from datetime import timedelta\n",
    "\n",
    "# Import data manipulation library\n",
    "import pandas as pd\n",
    "\n",
    "# Import matplotlib and set the style for plotting\n",
    "import matplotlib.pyplot as plt\n",
    "%matplotlib inline\n",
    "plt.style.use('seaborn-darkgrid')\n",
    "\n",
    "# Ignore warnings\n",
    "import warnings\n",
    "warnings.filterwarnings(\"ignore\")"
   ]
  },
  {
   "cell_type": "markdown",
   "id": "5ca3e46c",
   "metadata": {},
   "source": [
    "<a id='data'></a> \n",
    "## Stock Fundamental Data\n",
    "\n",
    "The fundamental data for stocks is fetched from the `simfin` library. The `simfin` library currently provides data for stocks from the US and Germany. For this illustration, we will use the stocks in the US market. The free dataset from [SimFin](https://simfin.com/data/bulk) will be used in this notebook."
   ]
  },
  {
   "cell_type": "markdown",
   "id": "d56644ed",
   "metadata": {},
   "source": [
    "<a id='data'></a> \n",
    "## Getting  the simfin API key\n",
    "\n",
    "To get the free simfin API key, register your email id at https://simfin.com/. Confirm your email id by clicking on the link in the email shared by the simfin team. This will activate the free API key. Login to the simfin account and go to https://simfin.com/data/api to access the free API key.\n",
    "\n",
    "The below code fetches the simfin API key of quantra using the get_simfin_api_key method of the FMDA_quantra module. However, while running the code on your local machine, you are requested to replace the API key placeholder text with the actual API key in the file FMDA_quantra.py. \n",
    "\n",
    "This file needs to be in the same folder as the current working directory, which is usually the folder where your notebook is being run from."
   ]
  },
  {
   "cell_type": "code",
   "execution_count": 3,
   "id": "1632eadc",
   "metadata": {},
   "outputs": [],
   "source": [
    "# Import libraries\n",
    "import os\n",
    "import sys\n",
    "sys.path.append(\"..\")\n",
    "\n",
    "# Import the get_simfin_api_key from the FMDA_quantra module\n",
    "# The code of this module can be found in the downloads (last section) of this course\n",
    "# You need to edit FMDA_quantra.py file in the folder 'data_modules' and add your simfin API key manually before you continue\n",
    "from data_modules.FMDA_quantra import get_simfin_api_key\n",
    "\n",
    "# Method in FMDA_quantra module to get the simfin API key\n",
    "simfin_api_key = get_simfin_api_key()"
   ]
  },
  {
   "cell_type": "code",
   "execution_count": 4,
   "id": "02f34e8b",
   "metadata": {},
   "outputs": [],
   "source": [
    "# SimFin data-directory\n",
    "sf.set_data_dir('~/simfin_data/')\n",
    "\n",
    "# SimFin API key\n",
    "sf.config.set_api_key(api_key=simfin_api_key)"
   ]
  },
  {
   "cell_type": "markdown",
   "id": "5adbc103",
   "metadata": {},
   "source": [
    "## Define the Stock Ticker and Fetch Fundamental Data\n",
    "\n",
    "Define the asset ticker symbol for which the ratios will be calculated."
   ]
  },
  {
   "cell_type": "code",
   "execution_count": 5,
   "id": "2e968026",
   "metadata": {},
   "outputs": [
    {
     "name": "stdout",
     "output_type": "stream",
     "text": [
      "Dataset \"us-income-quarterly\" on disk (0 days old).\n",
      "- Loading from disk ... Done!\n",
      "Dataset \"us-balance-quarterly\" on disk (0 days old).\n",
      "- Loading from disk ... Done!\n",
      "Dataset \"us-balance-quarterly\" on disk (0 days old).\n",
      "- Loading from disk ... Done!\n"
     ]
    }
   ],
   "source": [
    "# Set the market as US\n",
    "market = 'us'\n",
    "\n",
    "# Define the stock ticker\n",
    "stock_ticker = 'AAPL'\n",
    "\n",
    "# Fetch quarterly income statements for all the tickers in SimFin database\n",
    "income_data_simfin_all_stocks = sf.load_income(variant='quarterly', market=market)\n",
    "income_data = income_data_simfin_all_stocks.loc[stock_ticker,:]\n",
    "\n",
    "# Fetch quarterly balance sheet data for all the tickers in SimFin database\n",
    "balance_sheet_data = sf.load_balance(variant='quarterly', market=market)\n",
    "balance_sheet_data = balance_sheet_data.loc[stock_ticker,:]\n",
    "\n",
    "# Fetch quarterly cash flow data for all the tickers in SimFin database\n",
    "cash_flow_data = sf.load_balance(variant='quarterly', market=market)\n",
    "cash_flow_data = cash_flow_data.loc[stock_ticker,:]"
   ]
  },
  {
   "cell_type": "markdown",
   "id": "279ebfe0",
   "metadata": {},
   "source": [
    "<a id='current_ratio'></a> \n",
    "## Current Ratio\n",
    "\n",
    "The current ratio is a liquidity ratio that measures a company's ability to pay short-term obligations. For an investor, a very high current ratio is not a good indicator because that indicates that the company is not using its current assets efficiently. A current ratio of less than 1 is also not a good sign because that indicates that the company may have problems meeting its short term obligations.\n",
    "\n",
    "The current ratio is calculated as:\n",
    "$$\\text{Current ratio} = \\frac{\\text{Total Current Assets}}{\\text{Total Current Liabilities}}$$"
   ]
  },
  {
   "cell_type": "code",
   "execution_count": 6,
   "id": "a3c4e79e",
   "metadata": {},
   "outputs": [
    {
     "data": {
      "image/png": "[encoded data removed]",
      "text/plain": [
       "<Figure size 1080x504 with 1 Axes>"
      ]
     },
     "metadata": {},
     "output_type": "display_data"
    }
   ],
   "source": [
    "# Calculate the current ratio\n",
    "current_ratio = \\\n",
    "    round((balance_sheet_data['Total Current Assets']\n",
    "           / balance_sheet_data['Total Current Liabilities']).astype(float), 2)\n",
    "\n",
    "# Plot the current ratio for the last 3 years\n",
    "data_to_plot = current_ratio.tail(12)\n",
    "X = data_to_plot.index\n",
    "plt.figure(figsize=(15, 7))\n",
    "\n",
    "# Plot the bar chart\n",
    "plt.bar(X, data_to_plot, color='purple', width=10, label=\"Current Ratio\")\n",
    "\n",
    "# Set title and labels for the plot\n",
    "plt.title('Current Ratio', fontsize=14)\n",
    "plt.xlabel('Year-Month', fontsize=12)\n",
    "plt.ylabel('Current Ratio', fontsize=12)\n",
    "plt.show()"
   ]
  },
  {
   "cell_type": "markdown",
   "id": "8e2f6a0e",
   "metadata": {},
   "source": [
    "<a id='roe'></a> \n",
    "## Return on Equity (ROE)\n",
    "\n",
    "The return on equity (ROE) is a measure of the profitability of a business with respect to its equity. Usually, the larger the ROE is, the better it is for the company.\n",
    "\n",
    "The return on equity is calculated as:\n",
    "$$\\text{Return on equity (ROE) (%)} = \\frac{\\text{Net Income}}{\\text{Total Equity}} * 100$$"
   ]
  },
  {
   "cell_type": "code",
   "execution_count": 7,
   "id": "7b995953",
   "metadata": {},
   "outputs": [
    {
     "data": {
      "image/png": "[encoded data removed]",
      "text/plain": [
       "<Figure size 1080x504 with 1 Axes>"
      ]
     },
     "metadata": {},
     "output_type": "display_data"
    }
   ],
   "source": [
    "# Calculate the return on equity\n",
    "return_on_equity = \\\n",
    "    round((income_data['Net Income'] / balance_sheet_data['Total Equity'] * 100).astype(float), 2)\n",
    "\n",
    "# Plot the return on equity for the last 3 years\n",
    "data_to_plot = return_on_equity.tail(12)\n",
    "X = data_to_plot.index\n",
    "plt.figure(figsize=(15, 7))\n",
    "\n",
    "# Plot the bar chart\n",
    "plt.bar(X, data_to_plot, color = 'blue', width = 10, label=\"Return on Equity\")\n",
    "\n",
    "# Set title and labels for the plot\n",
    "plt.title('Return on Equity', fontsize=14)\n",
    "plt.xlabel('Year-Month', fontsize=12)\n",
    "plt.ylabel('Return on Equity (%)', fontsize=12)\n",
    "plt.show()"
   ]
  },
  {
   "cell_type": "markdown",
   "id": "a42ca156",
   "metadata": {},
   "source": [
    "<a id='der'></a> \n",
    "## Debt to Equity (D/E) Ratio\n",
    "\n",
    "The debt to equity (D/E) ratio is a fundamental ratio indicating the relative proportion of shareholders' equity and debt used to finance a company's assets. The ratio is also known as risk, gearing or leverage. A high D/E ratio is considered risky because it suggests that the company is financing a significant amount of its potential growth through borrowing.\n",
    "\n",
    "The debt to equity ratio is calculated as:\n",
    "$$\\text{Debt to Equity Ratio (D/E)} = \\frac{\\text{Long Term Debt}}{\\text{Total Equity}}$$"
   ]
  },
  {
   "cell_type": "code",
   "execution_count": 8,
   "id": "26c4d0fe",
   "metadata": {},
   "outputs": [
    {
     "data": {
      "image/png": "[encoded data removed]",
      "text/plain": [
       "<Figure size 1080x504 with 1 Axes>"
      ]
     },
     "metadata": {},
     "output_type": "display_data"
    }
   ],
   "source": [
    "# Calculate the debt to equity ratio\n",
    "de_ratio = \\\n",
    "    round((balance_sheet_data['Long Term Debt'] / balance_sheet_data['Total Equity']).astype(float), 2)\n",
    "\n",
    "# Plot the debt to equity for the last 3 years\n",
    "data_to_plot = de_ratio.tail(12)\n",
    "X = data_to_plot.index\n",
    "plt.figure(figsize=(15, 7))\n",
    "\n",
    "# Plot the bar chart\n",
    "plt.bar(X, data_to_plot, color = 'green', width = 10, label=\"Debt to Equity (D/E) Ratio\")\n",
    "\n",
    "# Set title and labels for the plot\n",
    "plt.title('Debt to Equity (D/E) Ratio', fontsize=14)\n",
    "plt.xlabel('Year-Month', fontsize=12)\n",
    "plt.ylabel('Debt to Equity Ratio', fontsize=12)\n",
    "plt.show()"
   ]
  },
  {
   "cell_type": "markdown",
   "id": "28582155",
   "metadata": {},
   "source": [
    "In a similar fashion, you can calculate other fundamental ratios on your own and observe the pattern.\n",
    "\n",
    "In the upcoming notebook, you will learn to fetch other fundamental data for a company.\n",
    "<br><br>"
   ]
  }
 ],
 "metadata": {
  "kernelspec": {
   "display_name": "Python 3 (ipykernel)",
   "language": "python",
   "name": "python3"
  },
  "language_info": {
   "codemirror_mode": {
    "name": "ipython",
    "version": 3
   },
   "file_extension": ".py",
   "mimetype": "text/x-python",
   "name": "python",
   "nbconvert_exporter": "python",
   "pygments_lexer": "ipython3",
   "version": "3.9.12"
  }
 },
 "nbformat": 4,
 "nbformat_minor": 5
}
