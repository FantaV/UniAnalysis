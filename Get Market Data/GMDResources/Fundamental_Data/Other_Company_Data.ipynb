{
 "cells": [
  {
   "cell_type": "markdown",
   "id": "f1178c71-8e3a-45a0-8fac-4469c8789939",
   "metadata": {},
   "source": [
    "# Notebook Instructions\n",
    "\n",
    "1. If you are new to Jupyter notebooks, please go through this introductory manual <a href='https://quantra.quantinsti.com/quantra-notebook' target=\"_blank\">here</a>.\n",
    "1. Any changes made in this notebook would be lost after you close the browser window. **You can download the notebook to save your work on your PC.**\n",
    "1. Before running this notebook on your local PC:<br>\n",
    "i.  You need to set up a Python environment and the relevant packages on your local PC. To do so, go through the section on \"**Run Codes Locally on Your Machine**\" in the course.<br>\n",
    "ii. You need to **download the zip file available in the last unit** of this course. The zip file contains the data files and/or python modules that might be required to run this notebook."
   ]
  },
  {
   "cell_type": "markdown",
   "id": "5af8175a",
   "metadata": {},
   "source": [
    "# Other Company Data\n",
    "\n",
    "In this notebook, you will learn to fetch other company data. The following data are fetched using the `yfinance` package:\n",
    "\n",
    "1. [Analyst Recommendations](#analyst)\n",
    "1. [Earnings Calendar](#calendar)\n",
    "1. [Corporate Actions](#actions)\n",
    "\n",
    "\n",
    "Note: At times, downloading the data may give you errors due to changes in yahoo finance. \n",
    "\n",
    "In such cases, it is recommended to upgrade the `yfinance` package using `pip install --upgrade yfinance`. You can update the 'cell type' for the below from 'Raw NBConvert' to a 'Code' cell. Then restart the kernel and run all of the following cells again."
   ]
  },
  {
   "cell_type": "raw",
   "id": "d292d9f5",
   "metadata": {},
   "source": [
    "pip install --upgrade yfinance"
   ]
  },
  {
   "cell_type": "markdown",
   "id": "c8c835a5",
   "metadata": {},
   "source": [
    "## Import Libraries"
   ]
  },
  {
   "cell_type": "code",
   "execution_count": 1,
   "id": "644aaa88",
   "metadata": {},
   "outputs": [],
   "source": [
    "# Import the yfinance library\n",
    "import yfinance as yf\n",
    "\n",
    "# Import data manipulation library\n",
    "import pandas as pd\n",
    "\n",
    "# Import matplotlib and set the style for plotting\n",
    "import matplotlib.pyplot as plt\n",
    "%matplotlib inline\n",
    "plt.style.use('seaborn-darkgrid')\n",
    "\n",
    "# Import time manipulation library\n",
    "from datetime import timedelta\n",
    "\n",
    "# Ignore warnings\n",
    "import warnings\n",
    "warnings.filterwarnings(\"ignore\")"
   ]
  },
  {
   "cell_type": "markdown",
   "id": "ddb86453",
   "metadata": {},
   "source": [
    "## Define the Stock Ticker\n",
    "\n",
    "Define the stock ticker whose data will be fetched."
   ]
  },
  {
   "cell_type": "code",
   "execution_count": 2,
   "id": "8dbae18f",
   "metadata": {
    "scrolled": false
   },
   "outputs": [],
   "source": [
    "# Define the asset ticker for the company\n",
    "stock_ticker_symbol = 'AAPL'\n",
    "stock_ticker = yf.Ticker(stock_ticker_symbol)"
   ]
  },
  {
   "cell_type": "markdown",
   "id": "4d4c76a3",
   "metadata": {},
   "source": [
    "<a id='analyst'></a> \n",
    "## Analyst Recommendations\n",
    "\n",
    "The analyst recommendations are the views of the various investment bank/advisory firm for the selected stock ticker."
   ]
  },
  {
   "cell_type": "code",
   "execution_count": 3,
   "id": "a46b1d72",
   "metadata": {},
   "outputs": [
    {
     "data": {
      "text/html": [
       "<div>\n",
       "<style scoped>\n",
       "    .dataframe tbody tr th:only-of-type {\n",
       "        vertical-align: middle;\n",
       "    }\n",
       "\n",
       "    .dataframe tbody tr th {\n",
       "        vertical-align: top;\n",
       "    }\n",
       "\n",
       "    .dataframe thead th {\n",
       "        text-align: right;\n",
       "    }\n",
       "</style>\n",
       "<table border=\"1\" class=\"dataframe\">\n",
       "  <thead>\n",
       "    <tr style=\"text-align: right;\">\n",
       "      <th></th>\n",
       "      <th>Firm</th>\n",
       "      <th>To Grade</th>\n",
       "      <th>From Grade</th>\n",
       "      <th>Action</th>\n",
       "    </tr>\n",
       "    <tr>\n",
       "      <th>Date</th>\n",
       "      <th></th>\n",
       "      <th></th>\n",
       "      <th></th>\n",
       "      <th></th>\n",
       "    </tr>\n",
       "  </thead>\n",
       "  <tbody>\n",
       "    <tr>\n",
       "      <th>2022-10-28 08:28:10</th>\n",
       "      <td>Keybanc</td>\n",
       "      <td>Overweight</td>\n",
       "      <td></td>\n",
       "      <td>main</td>\n",
       "    </tr>\n",
       "    <tr>\n",
       "      <th>2022-10-28 10:35:31</th>\n",
       "      <td>Citigroup</td>\n",
       "      <td>Buy</td>\n",
       "      <td></td>\n",
       "      <td>main</td>\n",
       "    </tr>\n",
       "    <tr>\n",
       "      <th>2022-10-28 10:39:44</th>\n",
       "      <td>Deutsche Bank</td>\n",
       "      <td>Buy</td>\n",
       "      <td></td>\n",
       "      <td>main</td>\n",
       "    </tr>\n",
       "    <tr>\n",
       "      <th>2022-10-28 11:31:39</th>\n",
       "      <td>Barclays</td>\n",
       "      <td>Equal-Weight</td>\n",
       "      <td></td>\n",
       "      <td>main</td>\n",
       "    </tr>\n",
       "    <tr>\n",
       "      <th>2022-10-28 11:59:30</th>\n",
       "      <td>Credit Suisse</td>\n",
       "      <td>Outperform</td>\n",
       "      <td></td>\n",
       "      <td>main</td>\n",
       "    </tr>\n",
       "    <tr>\n",
       "      <th>2022-10-28 13:19:17</th>\n",
       "      <td>Wedbush</td>\n",
       "      <td>Outperform</td>\n",
       "      <td></td>\n",
       "      <td>main</td>\n",
       "    </tr>\n",
       "    <tr>\n",
       "      <th>2022-11-07 12:39:27</th>\n",
       "      <td>Barclays</td>\n",
       "      <td>Equal-Weight</td>\n",
       "      <td></td>\n",
       "      <td>main</td>\n",
       "    </tr>\n",
       "    <tr>\n",
       "      <th>2022-11-07 13:08:30</th>\n",
       "      <td>B of A Securities</td>\n",
       "      <td>Neutral</td>\n",
       "      <td></td>\n",
       "      <td>main</td>\n",
       "    </tr>\n",
       "    <tr>\n",
       "      <th>2022-11-08 12:14:23</th>\n",
       "      <td>Morgan Stanley</td>\n",
       "      <td>Overweight</td>\n",
       "      <td></td>\n",
       "      <td>main</td>\n",
       "    </tr>\n",
       "    <tr>\n",
       "      <th>2022-11-08 12:17:03</th>\n",
       "      <td>UBS</td>\n",
       "      <td>Buy</td>\n",
       "      <td></td>\n",
       "      <td>main</td>\n",
       "    </tr>\n",
       "  </tbody>\n",
       "</table>\n",
       "</div>"
      ],
      "text/plain": [
       "                                  Firm      To Grade From Grade Action\n",
       "Date                                                                  \n",
       "2022-10-28 08:28:10            Keybanc    Overweight              main\n",
       "2022-10-28 10:35:31          Citigroup           Buy              main\n",
       "2022-10-28 10:39:44      Deutsche Bank           Buy              main\n",
       "2022-10-28 11:31:39           Barclays  Equal-Weight              main\n",
       "2022-10-28 11:59:30      Credit Suisse    Outperform              main\n",
       "2022-10-28 13:19:17            Wedbush    Outperform              main\n",
       "2022-11-07 12:39:27           Barclays  Equal-Weight              main\n",
       "2022-11-07 13:08:30  B of A Securities       Neutral              main\n",
       "2022-11-08 12:14:23     Morgan Stanley    Overweight              main\n",
       "2022-11-08 12:17:03                UBS           Buy              main"
      ]
     },
     "execution_count": 3,
     "metadata": {},
     "output_type": "execute_result"
    }
   ],
   "source": [
    "# Analyst recommendations\n",
    "analyst_recommendations = stock_ticker.get_recommendations()\n",
    "\n",
    "# Print the last 10 recommendations\n",
    "analyst_recommendations.tail(10)"
   ]
  },
  {
   "cell_type": "markdown",
   "id": "75316768",
   "metadata": {},
   "source": [
    "<a id='calendar'></a> \n",
    "## Earnings Calendar\n",
    "\n",
    "Earnings dates helps us understand the schedule according to which various publicly-traded companies announce their earnings for a certain period such as a quarter or a year."
   ]
  },
  {
   "cell_type": "code",
   "execution_count": 4,
   "id": "7a8d8d93",
   "metadata": {
    "scrolled": true
   },
   "outputs": [
    {
     "data": {
      "text/html": [
       "<div>\n",
       "<style scoped>\n",
       "    .dataframe tbody tr th:only-of-type {\n",
       "        vertical-align: middle;\n",
       "    }\n",
       "\n",
       "    .dataframe tbody tr th {\n",
       "        vertical-align: top;\n",
       "    }\n",
       "\n",
       "    .dataframe thead th {\n",
       "        text-align: right;\n",
       "    }\n",
       "</style>\n",
       "<table border=\"1\" class=\"dataframe\">\n",
       "  <thead>\n",
       "    <tr style=\"text-align: right;\">\n",
       "      <th></th>\n",
       "      <th>EPS Estimate</th>\n",
       "      <th>Reported EPS</th>\n",
       "      <th>Surprise(%)</th>\n",
       "    </tr>\n",
       "    <tr>\n",
       "      <th>Earnings Date</th>\n",
       "      <th></th>\n",
       "      <th></th>\n",
       "      <th></th>\n",
       "    </tr>\n",
       "  </thead>\n",
       "  <tbody>\n",
       "    <tr>\n",
       "      <th>2023-10-25 06:00:00-04:00</th>\n",
       "      <td>NaN</td>\n",
       "      <td>NaN</td>\n",
       "      <td>NaN</td>\n",
       "    </tr>\n",
       "    <tr>\n",
       "      <th>2023-07-26 16:00:00-04:00</th>\n",
       "      <td>NaN</td>\n",
       "      <td>NaN</td>\n",
       "      <td>NaN</td>\n",
       "    </tr>\n",
       "    <tr>\n",
       "      <th>2023-04-26 06:00:00-04:00</th>\n",
       "      <td>NaN</td>\n",
       "      <td>NaN</td>\n",
       "      <td>NaN</td>\n",
       "    </tr>\n",
       "    <tr>\n",
       "      <th>2023-01-25 05:00:00-05:00</th>\n",
       "      <td>1.98</td>\n",
       "      <td>NaN</td>\n",
       "      <td>NaN</td>\n",
       "    </tr>\n",
       "    <tr>\n",
       "      <th>2022-10-27 12:00:00-04:00</th>\n",
       "      <td>1.27</td>\n",
       "      <td>1.29</td>\n",
       "      <td>0.0157</td>\n",
       "    </tr>\n",
       "  </tbody>\n",
       "</table>\n",
       "</div>"
      ],
      "text/plain": [
       "                           EPS Estimate  Reported EPS  Surprise(%)\n",
       "Earnings Date                                                     \n",
       "2023-10-25 06:00:00-04:00           NaN           NaN          NaN\n",
       "2023-07-26 16:00:00-04:00           NaN           NaN          NaN\n",
       "2023-04-26 06:00:00-04:00           NaN           NaN          NaN\n",
       "2023-01-25 05:00:00-05:00          1.98           NaN          NaN\n",
       "2022-10-27 12:00:00-04:00          1.27          1.29       0.0157"
      ]
     },
     "execution_count": 4,
     "metadata": {},
     "output_type": "execute_result"
    }
   ],
   "source": [
    "# Fetch the earnings calendar of the stock and store it in a DataFrame\n",
    "earnings_dates = stock_ticker.get_earnings_dates()\n",
    "\n",
    "# Print the last 5 rows\n",
    "earnings_dates.head()"
   ]
  },
  {
   "cell_type": "markdown",
   "id": "ead538c0",
   "metadata": {},
   "source": [
    "The first four dates in the above dataframe correspond to NaN values as they represent the future earnings announcement dates for the asset.\n",
    "\n",
    "<a id='actions'></a> \n",
    "## Corporate Actions\n",
    "\n",
    "A corporate action is any activity that a company does which brings material impact to its stakeholders. Common corporate actions include the payment of dividends and stock splits.\n",
    "\n",
    "Dividends are the distribution of a company's earnings to its shareholders. A stock split is an action by which the number of shares of a company is increased by a specified multiple, while the share price is decreased by the same factor as the multiple."
   ]
  },
  {
   "cell_type": "code",
   "execution_count": 5,
   "id": "2a9f9e59",
   "metadata": {},
   "outputs": [
    {
     "name": "stdout",
     "output_type": "stream",
     "text": [
      "Last 10 corporate actions \n",
      "                           Dividends  Stock Splits\n",
      "Date                                              \n",
      "2020-08-31 00:00:00-04:00      0.000           4.0\n",
      "2020-11-06 00:00:00-05:00      0.205           0.0\n",
      "2021-02-05 00:00:00-05:00      0.205           0.0\n",
      "2021-05-07 00:00:00-04:00      0.220           0.0\n",
      "2021-08-06 00:00:00-04:00      0.220           0.0\n",
      "2021-11-05 00:00:00-04:00      0.220           0.0\n",
      "2022-02-04 00:00:00-05:00      0.220           0.0\n",
      "2022-05-06 00:00:00-04:00      0.230           0.0\n",
      "2022-08-05 00:00:00-04:00      0.230           0.0\n",
      "2022-11-04 00:00:00-04:00      0.230           0.0\n"
     ]
    },
    {
     "data": {
      "image/png": "[encoded data removed]",
      "text/plain": [
       "<Figure size 1080x720 with 2 Axes>"
      ]
     },
     "metadata": {},
     "output_type": "display_data"
    }
   ],
   "source": [
    "# Corporate actions\n",
    "corporate_actions = stock_ticker.get_actions()\n",
    "\n",
    "# Print the last 10 corporate actions\n",
    "print(f\"Last 10 corporate actions \\n{corporate_actions.tail(10)}\")\n",
    "\n",
    "# Plot the net income and revenue for the last 3 years\n",
    "data_to_plot = corporate_actions.tail(12)\n",
    "\n",
    "# Define the plot figure\n",
    "fig = plt.figure(figsize=(15, 10))\n",
    "ax1 = fig.add_subplot(211)\n",
    "ax2 = fig.add_subplot(212)\n",
    "width = 0.2\n",
    "\n",
    "# Plot the data\n",
    "(data_to_plot['Dividends'] * 100).plot(kind='bar', color='blue', ax=ax1, width=width, position=1)\n",
    "data_to_plot['Stock Splits'].plot(kind='bar', color='red', ax=ax2, width=width, position=0)\n",
    "\n",
    "# Set title and labels for the plot\n",
    "ax1.set_ylabel('Dividends (%)', fontsize=12)\n",
    "ax2.set_ylabel('Stock Splits (Ratio)', fontsize=12)\n",
    "ax1.set_title('Dividends', fontsize=14)\n",
    "ax2.set_title('Stock Splits', fontsize=14)\n",
    "ax1.legend(loc=2)\n",
    "ax2.legend(loc=2)\n",
    "plt.tight_layout()\n",
    "plt.show()"
   ]
  },
  {
   "cell_type": "markdown",
   "id": "87c185c6",
   "metadata": {},
   "source": [
    "As we can see from the trend, dividends are more common than stock splits. This is because dividends are usually paid every quarter whereas stock splits require special approval from the company's board of directors.\n",
    "\n",
    "In the upcoming unit, you can refer to additional sources of fundamental stock data. <br><br>"
   ]
  }
 ],
 "metadata": {
  "kernelspec": {
   "display_name": "Python 3 (ipykernel)",
   "language": "python",
   "name": "python3"
  },
  "language_info": {
   "codemirror_mode": {
    "name": "ipython",
    "version": 3
   },
   "file_extension": ".py",
   "mimetype": "text/x-python",
   "name": "python",
   "nbconvert_exporter": "python",
   "pygments_lexer": "ipython3",
   "version": "3.9.5"
  }
 },
 "nbformat": 4,
 "nbformat_minor": 5
}
