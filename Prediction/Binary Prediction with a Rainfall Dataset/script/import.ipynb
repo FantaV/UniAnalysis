{
 "cells": [
  {
   "metadata": {},
   "cell_type": "markdown",
   "source": "Submissions are evaluated on area under the ROC curve between the predicted probability and the observed target.",
   "id": "46276fa515ae7658"
  },
  {
   "metadata": {
    "collapsed": true,
    "ExecuteTime": {
     "end_time": "2025-03-09T16:48:28.449753Z",
     "start_time": "2025-03-09T16:48:28.306343Z"
    }
   },
   "cell_type": "code",
   "outputs": [],
   "execution_count": 1,
   "source": [
    "import numpy as np\n",
    "import matplotlib.pyplot as plt\n",
    "import seaborn as sns\n",
    "%matplotlib inline\n",
    "import kaggle\n",
    "\n",
    "from sklearn.metrics import accuracy_score, classification_report, confusion_matrix\n",
    "from IPython.display import display, Markdown\n"
   ],
   "id": "initial_id"
  },
  {
   "metadata": {
    "ExecuteTime": {
     "end_time": "2025-03-09T17:12:50.307168Z",
     "start_time": "2025-03-09T17:12:50.286320Z"
    }
   },
   "cell_type": "code",
   "source": [
    "import pandas as pd\n",
    "\n",
    "# Percorsi dei file\n",
    "train_path = \"~/Documents/My Projects/Prediction/Binary Prediction with a Rainfall Dataset/playground-series-s5e3/train.csv\"\n",
    "test_path = \"~/Documents/My Projects/Prediction/Binary Prediction with a Rainfall Dataset/playground-series-s5e3/test.csv\"\n",
    "\n",
    "# Dataset load\n",
    "train_df = pd.read_csv(train_path)\n",
    "test_df = pd.read_csv(test_path)\n",
    "\n",
    "# Visualizzare le prime righe\n",
    "display(train_df.head().style.set_caption(\"Train Dataset\"))\n"
   ],
   "id": "fe3010233db988d9",
   "outputs": [
    {
     "data": {
      "text/plain": [
       "<pandas.io.formats.style.Styler at 0x10d871670>"
      ],
      "text/html": [
       "<style type=\"text/css\">\n",
       "</style>\n",
       "<table id=\"T_b2318\">\n",
       "  <caption>Train Dataset</caption>\n",
       "  <thead>\n",
       "    <tr>\n",
       "      <th class=\"blank level0\" >&nbsp;</th>\n",
       "      <th id=\"T_b2318_level0_col0\" class=\"col_heading level0 col0\" >id</th>\n",
       "      <th id=\"T_b2318_level0_col1\" class=\"col_heading level0 col1\" >day</th>\n",
       "      <th id=\"T_b2318_level0_col2\" class=\"col_heading level0 col2\" >pressure</th>\n",
       "      <th id=\"T_b2318_level0_col3\" class=\"col_heading level0 col3\" >maxtemp</th>\n",
       "      <th id=\"T_b2318_level0_col4\" class=\"col_heading level0 col4\" >temparature</th>\n",
       "      <th id=\"T_b2318_level0_col5\" class=\"col_heading level0 col5\" >mintemp</th>\n",
       "      <th id=\"T_b2318_level0_col6\" class=\"col_heading level0 col6\" >dewpoint</th>\n",
       "      <th id=\"T_b2318_level0_col7\" class=\"col_heading level0 col7\" >humidity</th>\n",
       "      <th id=\"T_b2318_level0_col8\" class=\"col_heading level0 col8\" >cloud</th>\n",
       "      <th id=\"T_b2318_level0_col9\" class=\"col_heading level0 col9\" >sunshine</th>\n",
       "      <th id=\"T_b2318_level0_col10\" class=\"col_heading level0 col10\" >winddirection</th>\n",
       "      <th id=\"T_b2318_level0_col11\" class=\"col_heading level0 col11\" >windspeed</th>\n",
       "      <th id=\"T_b2318_level0_col12\" class=\"col_heading level0 col12\" >rainfall</th>\n",
       "    </tr>\n",
       "  </thead>\n",
       "  <tbody>\n",
       "    <tr>\n",
       "      <th id=\"T_b2318_level0_row0\" class=\"row_heading level0 row0\" >0</th>\n",
       "      <td id=\"T_b2318_row0_col0\" class=\"data row0 col0\" >0</td>\n",
       "      <td id=\"T_b2318_row0_col1\" class=\"data row0 col1\" >1</td>\n",
       "      <td id=\"T_b2318_row0_col2\" class=\"data row0 col2\" >1017.400000</td>\n",
       "      <td id=\"T_b2318_row0_col3\" class=\"data row0 col3\" >21.200000</td>\n",
       "      <td id=\"T_b2318_row0_col4\" class=\"data row0 col4\" >20.600000</td>\n",
       "      <td id=\"T_b2318_row0_col5\" class=\"data row0 col5\" >19.900000</td>\n",
       "      <td id=\"T_b2318_row0_col6\" class=\"data row0 col6\" >19.400000</td>\n",
       "      <td id=\"T_b2318_row0_col7\" class=\"data row0 col7\" >87.000000</td>\n",
       "      <td id=\"T_b2318_row0_col8\" class=\"data row0 col8\" >88.000000</td>\n",
       "      <td id=\"T_b2318_row0_col9\" class=\"data row0 col9\" >1.100000</td>\n",
       "      <td id=\"T_b2318_row0_col10\" class=\"data row0 col10\" >60.000000</td>\n",
       "      <td id=\"T_b2318_row0_col11\" class=\"data row0 col11\" >17.200000</td>\n",
       "      <td id=\"T_b2318_row0_col12\" class=\"data row0 col12\" >1</td>\n",
       "    </tr>\n",
       "    <tr>\n",
       "      <th id=\"T_b2318_level0_row1\" class=\"row_heading level0 row1\" >1</th>\n",
       "      <td id=\"T_b2318_row1_col0\" class=\"data row1 col0\" >1</td>\n",
       "      <td id=\"T_b2318_row1_col1\" class=\"data row1 col1\" >2</td>\n",
       "      <td id=\"T_b2318_row1_col2\" class=\"data row1 col2\" >1019.500000</td>\n",
       "      <td id=\"T_b2318_row1_col3\" class=\"data row1 col3\" >16.200000</td>\n",
       "      <td id=\"T_b2318_row1_col4\" class=\"data row1 col4\" >16.900000</td>\n",
       "      <td id=\"T_b2318_row1_col5\" class=\"data row1 col5\" >15.800000</td>\n",
       "      <td id=\"T_b2318_row1_col6\" class=\"data row1 col6\" >15.400000</td>\n",
       "      <td id=\"T_b2318_row1_col7\" class=\"data row1 col7\" >95.000000</td>\n",
       "      <td id=\"T_b2318_row1_col8\" class=\"data row1 col8\" >91.000000</td>\n",
       "      <td id=\"T_b2318_row1_col9\" class=\"data row1 col9\" >0.000000</td>\n",
       "      <td id=\"T_b2318_row1_col10\" class=\"data row1 col10\" >50.000000</td>\n",
       "      <td id=\"T_b2318_row1_col11\" class=\"data row1 col11\" >21.900000</td>\n",
       "      <td id=\"T_b2318_row1_col12\" class=\"data row1 col12\" >1</td>\n",
       "    </tr>\n",
       "    <tr>\n",
       "      <th id=\"T_b2318_level0_row2\" class=\"row_heading level0 row2\" >2</th>\n",
       "      <td id=\"T_b2318_row2_col0\" class=\"data row2 col0\" >2</td>\n",
       "      <td id=\"T_b2318_row2_col1\" class=\"data row2 col1\" >3</td>\n",
       "      <td id=\"T_b2318_row2_col2\" class=\"data row2 col2\" >1024.100000</td>\n",
       "      <td id=\"T_b2318_row2_col3\" class=\"data row2 col3\" >19.400000</td>\n",
       "      <td id=\"T_b2318_row2_col4\" class=\"data row2 col4\" >16.100000</td>\n",
       "      <td id=\"T_b2318_row2_col5\" class=\"data row2 col5\" >14.600000</td>\n",
       "      <td id=\"T_b2318_row2_col6\" class=\"data row2 col6\" >9.300000</td>\n",
       "      <td id=\"T_b2318_row2_col7\" class=\"data row2 col7\" >75.000000</td>\n",
       "      <td id=\"T_b2318_row2_col8\" class=\"data row2 col8\" >47.000000</td>\n",
       "      <td id=\"T_b2318_row2_col9\" class=\"data row2 col9\" >8.300000</td>\n",
       "      <td id=\"T_b2318_row2_col10\" class=\"data row2 col10\" >70.000000</td>\n",
       "      <td id=\"T_b2318_row2_col11\" class=\"data row2 col11\" >18.100000</td>\n",
       "      <td id=\"T_b2318_row2_col12\" class=\"data row2 col12\" >1</td>\n",
       "    </tr>\n",
       "    <tr>\n",
       "      <th id=\"T_b2318_level0_row3\" class=\"row_heading level0 row3\" >3</th>\n",
       "      <td id=\"T_b2318_row3_col0\" class=\"data row3 col0\" >3</td>\n",
       "      <td id=\"T_b2318_row3_col1\" class=\"data row3 col1\" >4</td>\n",
       "      <td id=\"T_b2318_row3_col2\" class=\"data row3 col2\" >1013.400000</td>\n",
       "      <td id=\"T_b2318_row3_col3\" class=\"data row3 col3\" >18.100000</td>\n",
       "      <td id=\"T_b2318_row3_col4\" class=\"data row3 col4\" >17.800000</td>\n",
       "      <td id=\"T_b2318_row3_col5\" class=\"data row3 col5\" >16.900000</td>\n",
       "      <td id=\"T_b2318_row3_col6\" class=\"data row3 col6\" >16.800000</td>\n",
       "      <td id=\"T_b2318_row3_col7\" class=\"data row3 col7\" >95.000000</td>\n",
       "      <td id=\"T_b2318_row3_col8\" class=\"data row3 col8\" >95.000000</td>\n",
       "      <td id=\"T_b2318_row3_col9\" class=\"data row3 col9\" >0.000000</td>\n",
       "      <td id=\"T_b2318_row3_col10\" class=\"data row3 col10\" >60.000000</td>\n",
       "      <td id=\"T_b2318_row3_col11\" class=\"data row3 col11\" >35.600000</td>\n",
       "      <td id=\"T_b2318_row3_col12\" class=\"data row3 col12\" >1</td>\n",
       "    </tr>\n",
       "    <tr>\n",
       "      <th id=\"T_b2318_level0_row4\" class=\"row_heading level0 row4\" >4</th>\n",
       "      <td id=\"T_b2318_row4_col0\" class=\"data row4 col0\" >4</td>\n",
       "      <td id=\"T_b2318_row4_col1\" class=\"data row4 col1\" >5</td>\n",
       "      <td id=\"T_b2318_row4_col2\" class=\"data row4 col2\" >1021.800000</td>\n",
       "      <td id=\"T_b2318_row4_col3\" class=\"data row4 col3\" >21.300000</td>\n",
       "      <td id=\"T_b2318_row4_col4\" class=\"data row4 col4\" >18.400000</td>\n",
       "      <td id=\"T_b2318_row4_col5\" class=\"data row4 col5\" >15.200000</td>\n",
       "      <td id=\"T_b2318_row4_col6\" class=\"data row4 col6\" >9.600000</td>\n",
       "      <td id=\"T_b2318_row4_col7\" class=\"data row4 col7\" >52.000000</td>\n",
       "      <td id=\"T_b2318_row4_col8\" class=\"data row4 col8\" >45.000000</td>\n",
       "      <td id=\"T_b2318_row4_col9\" class=\"data row4 col9\" >3.600000</td>\n",
       "      <td id=\"T_b2318_row4_col10\" class=\"data row4 col10\" >40.000000</td>\n",
       "      <td id=\"T_b2318_row4_col11\" class=\"data row4 col11\" >24.800000</td>\n",
       "      <td id=\"T_b2318_row4_col12\" class=\"data row4 col12\" >0</td>\n",
       "    </tr>\n",
       "  </tbody>\n",
       "</table>\n"
      ]
     },
     "metadata": {},
     "output_type": "display_data"
    },
    {
     "data": {
      "text/plain": [
       "<pandas.io.formats.style.Styler at 0x10d871670>"
      ],
      "text/html": [
       "<style type=\"text/css\">\n",
       "</style>\n",
       "<table id=\"T_aef40\">\n",
       "  <caption>Test Dataset</caption>\n",
       "  <thead>\n",
       "    <tr>\n",
       "      <th class=\"blank level0\" >&nbsp;</th>\n",
       "      <th id=\"T_aef40_level0_col0\" class=\"col_heading level0 col0\" >id</th>\n",
       "      <th id=\"T_aef40_level0_col1\" class=\"col_heading level0 col1\" >day</th>\n",
       "      <th id=\"T_aef40_level0_col2\" class=\"col_heading level0 col2\" >pressure</th>\n",
       "      <th id=\"T_aef40_level0_col3\" class=\"col_heading level0 col3\" >maxtemp</th>\n",
       "      <th id=\"T_aef40_level0_col4\" class=\"col_heading level0 col4\" >temparature</th>\n",
       "      <th id=\"T_aef40_level0_col5\" class=\"col_heading level0 col5\" >mintemp</th>\n",
       "      <th id=\"T_aef40_level0_col6\" class=\"col_heading level0 col6\" >dewpoint</th>\n",
       "      <th id=\"T_aef40_level0_col7\" class=\"col_heading level0 col7\" >humidity</th>\n",
       "      <th id=\"T_aef40_level0_col8\" class=\"col_heading level0 col8\" >cloud</th>\n",
       "      <th id=\"T_aef40_level0_col9\" class=\"col_heading level0 col9\" >sunshine</th>\n",
       "      <th id=\"T_aef40_level0_col10\" class=\"col_heading level0 col10\" >winddirection</th>\n",
       "      <th id=\"T_aef40_level0_col11\" class=\"col_heading level0 col11\" >windspeed</th>\n",
       "    </tr>\n",
       "  </thead>\n",
       "  <tbody>\n",
       "    <tr>\n",
       "      <th id=\"T_aef40_level0_row0\" class=\"row_heading level0 row0\" >0</th>\n",
       "      <td id=\"T_aef40_row0_col0\" class=\"data row0 col0\" >2190</td>\n",
       "      <td id=\"T_aef40_row0_col1\" class=\"data row0 col1\" >1</td>\n",
       "      <td id=\"T_aef40_row0_col2\" class=\"data row0 col2\" >1019.500000</td>\n",
       "      <td id=\"T_aef40_row0_col3\" class=\"data row0 col3\" >17.500000</td>\n",
       "      <td id=\"T_aef40_row0_col4\" class=\"data row0 col4\" >15.800000</td>\n",
       "      <td id=\"T_aef40_row0_col5\" class=\"data row0 col5\" >12.700000</td>\n",
       "      <td id=\"T_aef40_row0_col6\" class=\"data row0 col6\" >14.900000</td>\n",
       "      <td id=\"T_aef40_row0_col7\" class=\"data row0 col7\" >96.000000</td>\n",
       "      <td id=\"T_aef40_row0_col8\" class=\"data row0 col8\" >99.000000</td>\n",
       "      <td id=\"T_aef40_row0_col9\" class=\"data row0 col9\" >0.000000</td>\n",
       "      <td id=\"T_aef40_row0_col10\" class=\"data row0 col10\" >50.000000</td>\n",
       "      <td id=\"T_aef40_row0_col11\" class=\"data row0 col11\" >24.300000</td>\n",
       "    </tr>\n",
       "    <tr>\n",
       "      <th id=\"T_aef40_level0_row1\" class=\"row_heading level0 row1\" >1</th>\n",
       "      <td id=\"T_aef40_row1_col0\" class=\"data row1 col0\" >2191</td>\n",
       "      <td id=\"T_aef40_row1_col1\" class=\"data row1 col1\" >2</td>\n",
       "      <td id=\"T_aef40_row1_col2\" class=\"data row1 col2\" >1016.500000</td>\n",
       "      <td id=\"T_aef40_row1_col3\" class=\"data row1 col3\" >17.500000</td>\n",
       "      <td id=\"T_aef40_row1_col4\" class=\"data row1 col4\" >16.500000</td>\n",
       "      <td id=\"T_aef40_row1_col5\" class=\"data row1 col5\" >15.800000</td>\n",
       "      <td id=\"T_aef40_row1_col6\" class=\"data row1 col6\" >15.100000</td>\n",
       "      <td id=\"T_aef40_row1_col7\" class=\"data row1 col7\" >97.000000</td>\n",
       "      <td id=\"T_aef40_row1_col8\" class=\"data row1 col8\" >99.000000</td>\n",
       "      <td id=\"T_aef40_row1_col9\" class=\"data row1 col9\" >0.000000</td>\n",
       "      <td id=\"T_aef40_row1_col10\" class=\"data row1 col10\" >50.000000</td>\n",
       "      <td id=\"T_aef40_row1_col11\" class=\"data row1 col11\" >35.300000</td>\n",
       "    </tr>\n",
       "    <tr>\n",
       "      <th id=\"T_aef40_level0_row2\" class=\"row_heading level0 row2\" >2</th>\n",
       "      <td id=\"T_aef40_row2_col0\" class=\"data row2 col0\" >2192</td>\n",
       "      <td id=\"T_aef40_row2_col1\" class=\"data row2 col1\" >3</td>\n",
       "      <td id=\"T_aef40_row2_col2\" class=\"data row2 col2\" >1023.900000</td>\n",
       "      <td id=\"T_aef40_row2_col3\" class=\"data row2 col3\" >11.200000</td>\n",
       "      <td id=\"T_aef40_row2_col4\" class=\"data row2 col4\" >10.400000</td>\n",
       "      <td id=\"T_aef40_row2_col5\" class=\"data row2 col5\" >9.400000</td>\n",
       "      <td id=\"T_aef40_row2_col6\" class=\"data row2 col6\" >8.900000</td>\n",
       "      <td id=\"T_aef40_row2_col7\" class=\"data row2 col7\" >86.000000</td>\n",
       "      <td id=\"T_aef40_row2_col8\" class=\"data row2 col8\" >96.000000</td>\n",
       "      <td id=\"T_aef40_row2_col9\" class=\"data row2 col9\" >0.000000</td>\n",
       "      <td id=\"T_aef40_row2_col10\" class=\"data row2 col10\" >40.000000</td>\n",
       "      <td id=\"T_aef40_row2_col11\" class=\"data row2 col11\" >16.900000</td>\n",
       "    </tr>\n",
       "    <tr>\n",
       "      <th id=\"T_aef40_level0_row3\" class=\"row_heading level0 row3\" >3</th>\n",
       "      <td id=\"T_aef40_row3_col0\" class=\"data row3 col0\" >2193</td>\n",
       "      <td id=\"T_aef40_row3_col1\" class=\"data row3 col1\" >4</td>\n",
       "      <td id=\"T_aef40_row3_col2\" class=\"data row3 col2\" >1022.900000</td>\n",
       "      <td id=\"T_aef40_row3_col3\" class=\"data row3 col3\" >20.600000</td>\n",
       "      <td id=\"T_aef40_row3_col4\" class=\"data row3 col4\" >17.300000</td>\n",
       "      <td id=\"T_aef40_row3_col5\" class=\"data row3 col5\" >15.200000</td>\n",
       "      <td id=\"T_aef40_row3_col6\" class=\"data row3 col6\" >9.500000</td>\n",
       "      <td id=\"T_aef40_row3_col7\" class=\"data row3 col7\" >75.000000</td>\n",
       "      <td id=\"T_aef40_row3_col8\" class=\"data row3 col8\" >45.000000</td>\n",
       "      <td id=\"T_aef40_row3_col9\" class=\"data row3 col9\" >7.100000</td>\n",
       "      <td id=\"T_aef40_row3_col10\" class=\"data row3 col10\" >20.000000</td>\n",
       "      <td id=\"T_aef40_row3_col11\" class=\"data row3 col11\" >50.600000</td>\n",
       "    </tr>\n",
       "    <tr>\n",
       "      <th id=\"T_aef40_level0_row4\" class=\"row_heading level0 row4\" >4</th>\n",
       "      <td id=\"T_aef40_row4_col0\" class=\"data row4 col0\" >2194</td>\n",
       "      <td id=\"T_aef40_row4_col1\" class=\"data row4 col1\" >5</td>\n",
       "      <td id=\"T_aef40_row4_col2\" class=\"data row4 col2\" >1022.200000</td>\n",
       "      <td id=\"T_aef40_row4_col3\" class=\"data row4 col3\" >16.100000</td>\n",
       "      <td id=\"T_aef40_row4_col4\" class=\"data row4 col4\" >13.800000</td>\n",
       "      <td id=\"T_aef40_row4_col5\" class=\"data row4 col5\" >6.400000</td>\n",
       "      <td id=\"T_aef40_row4_col6\" class=\"data row4 col6\" >4.300000</td>\n",
       "      <td id=\"T_aef40_row4_col7\" class=\"data row4 col7\" >68.000000</td>\n",
       "      <td id=\"T_aef40_row4_col8\" class=\"data row4 col8\" >49.000000</td>\n",
       "      <td id=\"T_aef40_row4_col9\" class=\"data row4 col9\" >9.200000</td>\n",
       "      <td id=\"T_aef40_row4_col10\" class=\"data row4 col10\" >20.000000</td>\n",
       "      <td id=\"T_aef40_row4_col11\" class=\"data row4 col11\" >19.400000</td>\n",
       "    </tr>\n",
       "  </tbody>\n",
       "</table>\n"
      ]
     },
     "metadata": {},
     "output_type": "display_data"
    }
   ],
   "execution_count": 25
  },
  {
   "metadata": {
    "ExecuteTime": {
     "end_time": "2025-03-09T17:10:12.538119Z",
     "start_time": "2025-03-09T17:10:12.529121Z"
    }
   },
   "cell_type": "code",
   "source": [
    "# dataset information\n",
    "print(train_df.info())\n",
    "\n",
    "# Contare i valori unici della colonna target\n",
    "print(train_df[\"rainfall\"].value_counts())\n",
    "\n",
    "# Verificare valori nulli\n",
    "print(train_df.isnull().sum())"
   ],
   "id": "c55a62d8074bfb38",
   "outputs": [
    {
     "name": "stdout",
     "output_type": "stream",
     "text": [
      "<class 'pandas.core.frame.DataFrame'>\n",
      "RangeIndex: 2190 entries, 0 to 2189\n",
      "Data columns (total 13 columns):\n",
      " #   Column         Non-Null Count  Dtype  \n",
      "---  ------         --------------  -----  \n",
      " 0   id             2190 non-null   int64  \n",
      " 1   day            2190 non-null   int64  \n",
      " 2   pressure       2190 non-null   float64\n",
      " 3   maxtemp        2190 non-null   float64\n",
      " 4   temparature    2190 non-null   float64\n",
      " 5   mintemp        2190 non-null   float64\n",
      " 6   dewpoint       2190 non-null   float64\n",
      " 7   humidity       2190 non-null   float64\n",
      " 8   cloud          2190 non-null   float64\n",
      " 9   sunshine       2190 non-null   float64\n",
      " 10  winddirection  2190 non-null   float64\n",
      " 11  windspeed      2190 non-null   float64\n",
      " 12  rainfall       2190 non-null   int64  \n",
      "dtypes: float64(10), int64(3)\n",
      "memory usage: 222.6 KB\n",
      "None\n",
      "rainfall\n",
      "1    1650\n",
      "0     540\n",
      "Name: count, dtype: int64\n",
      "id               0\n",
      "day              0\n",
      "pressure         0\n",
      "maxtemp          0\n",
      "temparature      0\n",
      "mintemp          0\n",
      "dewpoint         0\n",
      "humidity         0\n",
      "cloud            0\n",
      "sunshine         0\n",
      "winddirection    0\n",
      "windspeed        0\n",
      "rainfall         0\n",
      "dtype: int64\n"
     ]
    }
   ],
   "execution_count": 19
  },
  {
   "metadata": {
    "ExecuteTime": {
     "end_time": "2025-03-09T17:13:25.941779Z",
     "start_time": "2025-03-09T17:13:25.892702Z"
    }
   },
   "cell_type": "code",
   "source": [
    "from sklearn.model_selection import train_test_split # Per dividere i dati in training e test\n",
    "from sklearn.preprocessing import StandardScaler  # Per normalizzare i dati numerici\n",
    "\n",
    "# Rimuovere la colonna \"Id\"\n",
    "train_df = train_df.drop(columns=[\"id\"])\n",
    "test_df = test_df.drop(columns=[\"id\"])\n",
    "\n",
    "# Separare feature e target\n",
    "X = train_df.drop(columns=[\"rainfall\"])  # Tutte le colonne tranne la target\n",
    "y = train_df[\"rainfall\"]  # Target\n",
    "\n",
    "# Dividere train e validation set\n",
    "X_train, X_val, y_train, y_val = train_test_split(X, y, test_size=0.2, random_state=42, stratify=y)\n",
    "\n",
    "# Normalizzazione (opzionale ma utile per alcuni modelli)\n",
    "scaler = StandardScaler()\n",
    "X_train_scaled = scaler.fit_transform(X_train)\n",
    "X_val_scaled = scaler.transform(X_val)\n",
    "X_test_scaled = scaler.transform(test_df)  # Normalizziamo anche il test set\n"
   ],
   "id": "16dbe02aaa7b4a6a",
   "outputs": [
    {
     "ename": "KeyError",
     "evalue": "\"['id'] not found in axis\"",
     "output_type": "error",
     "traceback": [
      "\u001B[31m---------------------------------------------------------------------------\u001B[39m",
      "\u001B[31mKeyError\u001B[39m                                  Traceback (most recent call last)",
      "\u001B[36mCell\u001B[39m\u001B[36m \u001B[39m\u001B[32mIn[30]\u001B[39m\u001B[32m, line 2\u001B[39m\n\u001B[32m      1\u001B[39m \u001B[38;5;66;03m# Rimuovere la colonna \"Id\"\u001B[39;00m\n\u001B[32m----> \u001B[39m\u001B[32m2\u001B[39m train_df = \u001B[43mtrain_df\u001B[49m\u001B[43m.\u001B[49m\u001B[43mdrop\u001B[49m\u001B[43m(\u001B[49m\u001B[43mcolumns\u001B[49m\u001B[43m=\u001B[49m\u001B[43m[\u001B[49m\u001B[33;43m\"\u001B[39;49m\u001B[33;43mid\u001B[39;49m\u001B[33;43m\"\u001B[39;49m\u001B[43m]\u001B[49m\u001B[43m)\u001B[49m\n\u001B[32m      3\u001B[39m test_df = test_df.drop(columns=[\u001B[33m\"\u001B[39m\u001B[33mid\u001B[39m\u001B[33m\"\u001B[39m])\n\u001B[32m      5\u001B[39m \u001B[38;5;66;03m# Separare feature e target\u001B[39;00m\n",
      "\u001B[36mFile \u001B[39m\u001B[32m~/Documents/My Projects/Prediction/Binary Prediction with a Rainfall Dataset/.rainfall_venv/lib/python3.12/site-packages/pandas/core/frame.py:5581\u001B[39m, in \u001B[36mDataFrame.drop\u001B[39m\u001B[34m(self, labels, axis, index, columns, level, inplace, errors)\u001B[39m\n\u001B[32m   5433\u001B[39m \u001B[38;5;28;01mdef\u001B[39;00m\u001B[38;5;250m \u001B[39m\u001B[34mdrop\u001B[39m(\n\u001B[32m   5434\u001B[39m     \u001B[38;5;28mself\u001B[39m,\n\u001B[32m   5435\u001B[39m     labels: IndexLabel | \u001B[38;5;28;01mNone\u001B[39;00m = \u001B[38;5;28;01mNone\u001B[39;00m,\n\u001B[32m   (...)\u001B[39m\u001B[32m   5442\u001B[39m     errors: IgnoreRaise = \u001B[33m\"\u001B[39m\u001B[33mraise\u001B[39m\u001B[33m\"\u001B[39m,\n\u001B[32m   5443\u001B[39m ) -> DataFrame | \u001B[38;5;28;01mNone\u001B[39;00m:\n\u001B[32m   5444\u001B[39m \u001B[38;5;250m    \u001B[39m\u001B[33;03m\"\"\"\u001B[39;00m\n\u001B[32m   5445\u001B[39m \u001B[33;03m    Drop specified labels from rows or columns.\u001B[39;00m\n\u001B[32m   5446\u001B[39m \n\u001B[32m   (...)\u001B[39m\u001B[32m   5579\u001B[39m \u001B[33;03m            weight  1.0     0.8\u001B[39;00m\n\u001B[32m   5580\u001B[39m \u001B[33;03m    \"\"\"\u001B[39;00m\n\u001B[32m-> \u001B[39m\u001B[32m5581\u001B[39m     \u001B[38;5;28;01mreturn\u001B[39;00m \u001B[38;5;28;43msuper\u001B[39;49m\u001B[43m(\u001B[49m\u001B[43m)\u001B[49m\u001B[43m.\u001B[49m\u001B[43mdrop\u001B[49m\u001B[43m(\u001B[49m\n\u001B[32m   5582\u001B[39m \u001B[43m        \u001B[49m\u001B[43mlabels\u001B[49m\u001B[43m=\u001B[49m\u001B[43mlabels\u001B[49m\u001B[43m,\u001B[49m\n\u001B[32m   5583\u001B[39m \u001B[43m        \u001B[49m\u001B[43maxis\u001B[49m\u001B[43m=\u001B[49m\u001B[43maxis\u001B[49m\u001B[43m,\u001B[49m\n\u001B[32m   5584\u001B[39m \u001B[43m        \u001B[49m\u001B[43mindex\u001B[49m\u001B[43m=\u001B[49m\u001B[43mindex\u001B[49m\u001B[43m,\u001B[49m\n\u001B[32m   5585\u001B[39m \u001B[43m        \u001B[49m\u001B[43mcolumns\u001B[49m\u001B[43m=\u001B[49m\u001B[43mcolumns\u001B[49m\u001B[43m,\u001B[49m\n\u001B[32m   5586\u001B[39m \u001B[43m        \u001B[49m\u001B[43mlevel\u001B[49m\u001B[43m=\u001B[49m\u001B[43mlevel\u001B[49m\u001B[43m,\u001B[49m\n\u001B[32m   5587\u001B[39m \u001B[43m        \u001B[49m\u001B[43minplace\u001B[49m\u001B[43m=\u001B[49m\u001B[43minplace\u001B[49m\u001B[43m,\u001B[49m\n\u001B[32m   5588\u001B[39m \u001B[43m        \u001B[49m\u001B[43merrors\u001B[49m\u001B[43m=\u001B[49m\u001B[43merrors\u001B[49m\u001B[43m,\u001B[49m\n\u001B[32m   5589\u001B[39m \u001B[43m    \u001B[49m\u001B[43m)\u001B[49m\n",
      "\u001B[36mFile \u001B[39m\u001B[32m~/Documents/My Projects/Prediction/Binary Prediction with a Rainfall Dataset/.rainfall_venv/lib/python3.12/site-packages/pandas/core/generic.py:4788\u001B[39m, in \u001B[36mNDFrame.drop\u001B[39m\u001B[34m(self, labels, axis, index, columns, level, inplace, errors)\u001B[39m\n\u001B[32m   4786\u001B[39m \u001B[38;5;28;01mfor\u001B[39;00m axis, labels \u001B[38;5;129;01min\u001B[39;00m axes.items():\n\u001B[32m   4787\u001B[39m     \u001B[38;5;28;01mif\u001B[39;00m labels \u001B[38;5;129;01mis\u001B[39;00m \u001B[38;5;129;01mnot\u001B[39;00m \u001B[38;5;28;01mNone\u001B[39;00m:\n\u001B[32m-> \u001B[39m\u001B[32m4788\u001B[39m         obj = \u001B[43mobj\u001B[49m\u001B[43m.\u001B[49m\u001B[43m_drop_axis\u001B[49m\u001B[43m(\u001B[49m\u001B[43mlabels\u001B[49m\u001B[43m,\u001B[49m\u001B[43m \u001B[49m\u001B[43maxis\u001B[49m\u001B[43m,\u001B[49m\u001B[43m \u001B[49m\u001B[43mlevel\u001B[49m\u001B[43m=\u001B[49m\u001B[43mlevel\u001B[49m\u001B[43m,\u001B[49m\u001B[43m \u001B[49m\u001B[43merrors\u001B[49m\u001B[43m=\u001B[49m\u001B[43merrors\u001B[49m\u001B[43m)\u001B[49m\n\u001B[32m   4790\u001B[39m \u001B[38;5;28;01mif\u001B[39;00m inplace:\n\u001B[32m   4791\u001B[39m     \u001B[38;5;28mself\u001B[39m._update_inplace(obj)\n",
      "\u001B[36mFile \u001B[39m\u001B[32m~/Documents/My Projects/Prediction/Binary Prediction with a Rainfall Dataset/.rainfall_venv/lib/python3.12/site-packages/pandas/core/generic.py:4830\u001B[39m, in \u001B[36mNDFrame._drop_axis\u001B[39m\u001B[34m(self, labels, axis, level, errors, only_slice)\u001B[39m\n\u001B[32m   4828\u001B[39m         new_axis = axis.drop(labels, level=level, errors=errors)\n\u001B[32m   4829\u001B[39m     \u001B[38;5;28;01melse\u001B[39;00m:\n\u001B[32m-> \u001B[39m\u001B[32m4830\u001B[39m         new_axis = \u001B[43maxis\u001B[49m\u001B[43m.\u001B[49m\u001B[43mdrop\u001B[49m\u001B[43m(\u001B[49m\u001B[43mlabels\u001B[49m\u001B[43m,\u001B[49m\u001B[43m \u001B[49m\u001B[43merrors\u001B[49m\u001B[43m=\u001B[49m\u001B[43merrors\u001B[49m\u001B[43m)\u001B[49m\n\u001B[32m   4831\u001B[39m     indexer = axis.get_indexer(new_axis)\n\u001B[32m   4833\u001B[39m \u001B[38;5;66;03m# Case for non-unique axis\u001B[39;00m\n\u001B[32m   4834\u001B[39m \u001B[38;5;28;01melse\u001B[39;00m:\n",
      "\u001B[36mFile \u001B[39m\u001B[32m~/Documents/My Projects/Prediction/Binary Prediction with a Rainfall Dataset/.rainfall_venv/lib/python3.12/site-packages/pandas/core/indexes/base.py:7070\u001B[39m, in \u001B[36mIndex.drop\u001B[39m\u001B[34m(self, labels, errors)\u001B[39m\n\u001B[32m   7068\u001B[39m \u001B[38;5;28;01mif\u001B[39;00m mask.any():\n\u001B[32m   7069\u001B[39m     \u001B[38;5;28;01mif\u001B[39;00m errors != \u001B[33m\"\u001B[39m\u001B[33mignore\u001B[39m\u001B[33m\"\u001B[39m:\n\u001B[32m-> \u001B[39m\u001B[32m7070\u001B[39m         \u001B[38;5;28;01mraise\u001B[39;00m \u001B[38;5;167;01mKeyError\u001B[39;00m(\u001B[33mf\u001B[39m\u001B[33m\"\u001B[39m\u001B[38;5;132;01m{\u001B[39;00mlabels[mask].tolist()\u001B[38;5;132;01m}\u001B[39;00m\u001B[33m not found in axis\u001B[39m\u001B[33m\"\u001B[39m)\n\u001B[32m   7071\u001B[39m     indexer = indexer[~mask]\n\u001B[32m   7072\u001B[39m \u001B[38;5;28;01mreturn\u001B[39;00m \u001B[38;5;28mself\u001B[39m.delete(indexer)\n",
      "\u001B[31mKeyError\u001B[39m: \"['id'] not found in axis\""
     ]
    }
   ],
   "execution_count": 30
  },
  {
   "metadata": {
    "ExecuteTime": {
     "end_time": "2025-03-09T17:20:16.119703Z",
     "start_time": "2025-03-09T17:20:16.102950Z"
    }
   },
   "cell_type": "code",
   "source": "display(train_df.head(1))",
   "id": "9b2402775829e24a",
   "outputs": [
    {
     "data": {
      "text/plain": [
       "   day  pressure  maxtemp  temparature  mintemp  dewpoint  humidity  cloud  \\\n",
       "0    1    1017.4     21.2         20.6     19.9      19.4      87.0   88.0   \n",
       "\n",
       "   sunshine  winddirection  windspeed  rainfall  \n",
       "0       1.1           60.0       17.2         1  "
      ],
      "text/html": [
       "<div>\n",
       "<style scoped>\n",
       "    .dataframe tbody tr th:only-of-type {\n",
       "        vertical-align: middle;\n",
       "    }\n",
       "\n",
       "    .dataframe tbody tr th {\n",
       "        vertical-align: top;\n",
       "    }\n",
       "\n",
       "    .dataframe thead th {\n",
       "        text-align: right;\n",
       "    }\n",
       "</style>\n",
       "<table border=\"1\" class=\"dataframe\">\n",
       "  <thead>\n",
       "    <tr style=\"text-align: right;\">\n",
       "      <th></th>\n",
       "      <th>day</th>\n",
       "      <th>pressure</th>\n",
       "      <th>maxtemp</th>\n",
       "      <th>temparature</th>\n",
       "      <th>mintemp</th>\n",
       "      <th>dewpoint</th>\n",
       "      <th>humidity</th>\n",
       "      <th>cloud</th>\n",
       "      <th>sunshine</th>\n",
       "      <th>winddirection</th>\n",
       "      <th>windspeed</th>\n",
       "      <th>rainfall</th>\n",
       "    </tr>\n",
       "  </thead>\n",
       "  <tbody>\n",
       "    <tr>\n",
       "      <th>0</th>\n",
       "      <td>1</td>\n",
       "      <td>1017.4</td>\n",
       "      <td>21.2</td>\n",
       "      <td>20.6</td>\n",
       "      <td>19.9</td>\n",
       "      <td>19.4</td>\n",
       "      <td>87.0</td>\n",
       "      <td>88.0</td>\n",
       "      <td>1.1</td>\n",
       "      <td>60.0</td>\n",
       "      <td>17.2</td>\n",
       "      <td>1</td>\n",
       "    </tr>\n",
       "  </tbody>\n",
       "</table>\n",
       "</div>"
      ]
     },
     "metadata": {},
     "output_type": "display_data"
    }
   ],
   "execution_count": 37
  },
  {
   "metadata": {
    "ExecuteTime": {
     "end_time": "2025-03-09T17:20:31.385661Z",
     "start_time": "2025-03-09T17:20:31.182599Z"
    }
   },
   "cell_type": "code",
   "source": [
    "from sklearn.ensemble import RandomForestClassifier\n",
    "\n",
    "# Creare il modello\n",
    "model = RandomForestClassifier(n_estimators=100, random_state=42)\n",
    "\n",
    "# Allenare il modello\n",
    "model.fit(X_train_scaled, y_train)\n",
    "\n",
    "# Fare previsioni sul validation set\n",
    "y_pred = model.predict(X_val_scaled)"
   ],
   "id": "8830d123c6cf0536",
   "outputs": [],
   "execution_count": 38
  },
  {
   "metadata": {
    "ExecuteTime": {
     "end_time": "2025-03-09T17:26:02.460199Z",
     "start_time": "2025-03-09T17:26:02.366278Z"
    }
   },
   "cell_type": "code",
   "source": [
    "from sklearn.metrics import accuracy_score, classification_report, confusion_matrix\n",
    "\n",
    "# Calcolare l'accuratezza\n",
    "accuracy = accuracy_score(y_val, y_pred)\n",
    "print(f\"📊 Accuracy: {accuracy:.2f}\")\n",
    "\n",
    "# Report dettagliato\n",
    "print(classification_report(y_val, y_pred))\n",
    "\n",
    "# Matrice di confusione\n",
    "import seaborn as sns\n",
    "import matplotlib.pyplot as plt\n",
    "\n",
    "plt.figure(figsize=(5,5))\n",
    "sns.heatmap(confusion_matrix(y_val, y_pred), annot=True, fmt=\"d\", cmap=\"Blues\")\n",
    "plt.xlabel(\"Predicted\")\n",
    "plt.ylabel(\"Real\")\n",
    "plt.title(\"Confusion Matrix\")\n",
    "plt.show()"
   ],
   "id": "ea9a4bafb26311d8",
   "outputs": [
    {
     "name": "stdout",
     "output_type": "stream",
     "text": [
      "📊 Accuracy: 0.87\n",
      "              precision    recall  f1-score   support\n",
      "\n",
      "           0       0.78      0.64      0.70       108\n",
      "           1       0.89      0.94      0.91       330\n",
      "\n",
      "    accuracy                           0.87       438\n",
      "   macro avg       0.83      0.79      0.81       438\n",
      "weighted avg       0.86      0.87      0.86       438\n",
      "\n"
     ]
    },
    {
     "data": {
      "text/plain": [
       "<Figure size 500x500 with 2 Axes>"
      ],
      "image/png": "[encoded data removed]"
     },
     "metadata": {},
     "output_type": "display_data"
    }
   ],
   "execution_count": 39
  },
  {
   "metadata": {
    "ExecuteTime": {
     "end_time": "2025-03-09T17:18:54.109303Z",
     "start_time": "2025-03-09T17:18:54.089967Z"
    }
   },
   "cell_type": "code",
   "source": [
    "# Fare previsioni sul test set\n",
    "test_predictions = model.predict(X_test_scaled)\n",
    "\n",
    "# Creare un file CSV con i risultati\n",
    "submission = pd.DataFrame({\"Id\": test_df.index, \"Rainfall\": test_predictions})\n",
    "submission.to_csv(\"submission.csv\", index=False)\n",
    "\n",
    "print(\"Predizioni salvate in 'submission.csv'\")"
   ],
   "id": "d3853822c0af4b2a",
   "outputs": [
    {
     "name": "stdout",
     "output_type": "stream",
     "text": [
      "✅ Predizioni salvate in 'submission.csv'\n"
     ]
    }
   ],
   "execution_count": 36
  }
 ],
 "metadata": {
  "kernelspec": {
   "display_name": "Python 3",
   "language": "python",
   "name": "python3"
  },
  "language_info": {
   "codemirror_mode": {
    "name": "ipython",
    "version": 2
   },
   "file_extension": ".py",
   "mimetype": "text/x-python",
   "name": "python",
   "nbconvert_exporter": "python",
   "pygments_lexer": "ipython2",
   "version": "2.7.6"
  }
 },
 "nbformat": 4,
 "nbformat_minor": 5
}
